{
  "cells": [
    {
      "cell_type": "markdown",
      "metadata": {
        "id": "view-in-github",
        "colab_type": "text"
      },
      "source": [
        "<a href=\"https://colab.research.google.com/github/ChrisHallak/MNIST-handwritten-digit-recognition/blob/main/MNIST_Classification.ipynb\" target=\"_parent\"><img src=\"https://colab.research.google.com/assets/colab-badge.svg\" alt=\"Open In Colab\"/></a>"
      ]
    },
    {
      "cell_type": "markdown",
      "id": "618f7b37",
      "metadata": {
        "id": "618f7b37"
      },
      "source": [
        "## [1]: Import necessary libraries\n"
      ]
    },
    {
      "cell_type": "code",
      "execution_count": null,
      "id": "51cf702d",
      "metadata": {
        "id": "51cf702d"
      },
      "outputs": [],
      "source": [
        "from sklearn.metrics import classification_report, confusion_matrix\n",
        "from keras.layers import Dense, Flatten, Conv2D, MaxPooling2D\n",
        "from sklearn.model_selection import train_test_split\n",
        "from sklearn.neighbors import KNeighborsClassifier\n",
        "from sklearn.linear_model import LogisticRegression\n",
        "from sklearn.preprocessing import StandardScaler\n",
        "from tensorflow.keras.utils import to_categorical\n",
        "from tensorflow.keras.utils import normalize\n",
        "from tensorflow.keras.datasets import mnist\n",
        "from keras.models import Sequential\n",
        "import matplotlib.pyplot as plt\n",
        "import tensorflow as tf\n",
        "from sklearn import metrics\n",
        "import pandas as pd\n",
        "import numpy as np\n",
        "import seaborn as sns\n",
        "\n",
        "import warnings\n",
        "warnings.filterwarnings(\"ignore\")\n"
      ]
    },
    {
      "cell_type": "markdown",
      "id": "c2f9130d",
      "metadata": {
        "id": "c2f9130d"
      },
      "source": [
        "## [2]: Dataset Acquisition\n"
      ]
    },
    {
      "cell_type": "markdown",
      "id": "2790294e",
      "metadata": {
        "id": "2790294e"
      },
      "source": [
        "#### MNIST Dataset:\n",
        "MNIST dataset includes handwritten digits total of 70,000 images consisting of 60,000 examples in training set and 10,000 examples in testing set, both with labeled images from 10 digits (0 to 9).Handwritten digits are images in the form of 28 * 28 gray scale intensities of images.\n"
      ]
    },
    {
      "cell_type": "code",
      "execution_count": null,
      "id": "a9cc742d",
      "metadata": {
        "id": "a9cc742d"
      },
      "outputs": [],
      "source": [
        "(X_train,y_train),(X_test,y_test) = mnist.load_data()"
      ]
    },
    {
      "cell_type": "code",
      "execution_count": null,
      "id": "321223ee",
      "metadata": {
        "id": "321223ee",
        "outputId": "43fe3941-c4c0-4921-8e0f-024fcad3d929"
      },
      "outputs": [
        {
          "name": "stdout",
          "output_type": "stream",
          "text": [
            "shape of X_train :  (60000, 28, 28)\n",
            "shape of y_Train :  (60000,)\n",
            "shape of X_test :  (10000, 28, 28)\n",
            "shape of y_test :  (10000,)\n"
          ]
        }
      ],
      "source": [
        "# exploring the dataset\n",
        "\n",
        "print('shape of X_train : ',X_train.shape)\n",
        "print('shape of y_Train : ',y_train.shape)\n",
        "print('shape of X_test : ',X_test.shape)\n",
        "print('shape of y_test : ',y_test.shape)"
      ]
    },
    {
      "cell_type": "markdown",
      "id": "775de1b3",
      "metadata": {
        "id": "775de1b3"
      },
      "source": [
        "## [3]: Data Preprocessing\n",
        "\n"
      ]
    },
    {
      "cell_type": "code",
      "execution_count": null,
      "id": "2ce506e4",
      "metadata": {
        "id": "2ce506e4"
      },
      "outputs": [],
      "source": [
        "# Normalization\n",
        "# Images are normalized to the range [0, 1] using the normalize function.\n",
        "# Normalization is crucial for ensuring that the input features have similar scales,\n",
        "# which can improve the convergence and performance of machine learning algorithms.\n",
        "\n",
        "X_train = normalize(X_train)\n",
        "X_test = normalize(X_test)\n",
        "\n"
      ]
    },
    {
      "cell_type": "code",
      "execution_count": null,
      "id": "2e417c33",
      "metadata": {
        "id": "2e417c33",
        "outputId": "eb750530-f6e6-4f5b-9a56-90b21f77f329"
      },
      "outputs": [
        {
          "name": "stdout",
          "output_type": "stream",
          "text": [
            "Before ======> After\n",
            "--------------------\n",
            "5      ======> [0. 0. 0. 0. 0. 1. 0. 0. 0. 0.]\n",
            "0      ======> [1. 0. 0. 0. 0. 0. 0. 0. 0. 0.]\n",
            "4      ======> [0. 0. 0. 0. 1. 0. 0. 0. 0. 0.]\n"
          ]
        }
      ],
      "source": [
        "# Convert labels to one-hot encoding\n",
        "# Labels are converted into one-hot encoded vectors using the to_categorical function.\n",
        "# One-hot encoding is essential for classification tasks,\n",
        "# as it transforms categorical labels into a format that is suitable for training machine learning models.\n",
        "\n",
        "y_train_one_hot = to_categorical(y_train)\n",
        "y_test_one_hot =  to_categorical(y_test)\n",
        "\n",
        "# print some label before and after converting\n",
        "print('Before ======> After')\n",
        "print('--------------------')\n",
        "print(y_train[0],\"     ======>\" ,y_train_one_hot[0])\n",
        "print(y_train[1],\"     ======>\" ,y_train_one_hot[1])\n",
        "print(y_train[2],\"     ======>\" ,y_train_one_hot[2])\n"
      ]
    },
    {
      "cell_type": "markdown",
      "id": "07785aa3",
      "metadata": {
        "id": "07785aa3"
      },
      "source": [
        "## [4]:  Exploratory Data Analysis (EDA)\n"
      ]
    },
    {
      "cell_type": "code",
      "execution_count": null,
      "id": "c690238f",
      "metadata": {
        "id": "c690238f",
        "outputId": "0d94f58f-f052-448a-a1fd-568f7d5649fe"
      },
      "outputs": [
        {
          "data": {
            "image/png": "[encoded data removed]",
            "text/plain": [
              "<Figure size 720x360 with 10 Axes>"
            ]
          },
          "metadata": {
            "needs_background": "light"
          },
          "output_type": "display_data"
        }
      ],
      "source": [
        "# Display a few random images from the MNIST dataset\n",
        "\n",
        "plt.figure(figsize=(10, 5))\n",
        "for i in range(10):\n",
        "    plt.subplot(2, 5, i + 1)\n",
        "    plt.imshow(X_train[i], cmap='gray')\n",
        "    plt.title(f\"Label: {y_train[i]}\")\n",
        "    plt.axis('off')\n",
        "plt.show()"
      ]
    },
    {
      "cell_type": "code",
      "execution_count": null,
      "id": "a7439a54",
      "metadata": {
        "id": "a7439a54",
        "outputId": "2a24c5a5-7e70-411f-bc38-e78cbdbd4a7b"
      },
      "outputs": [
        {
          "data": {
            "image/png": "[encoded data removed]",
            "text/plain": [
              "<Figure size 576x432 with 1 Axes>"
            ]
          },
          "metadata": {
            "needs_background": "light"
          },
          "output_type": "display_data"
        }
      ],
      "source": [
        "# distribution of classes in the dataset is essential for\n",
        "# assessing class balance and potential biases in the data.\n",
        "\n",
        "digit_counts = np.bincount(y_train)\n",
        "\n",
        "# Plot the distribution\n",
        "plt.figure(figsize=(8, 6))\n",
        "plt.bar(range(10), digit_counts, color='purple')\n",
        "plt.xlabel('Digit')\n",
        "plt.ylabel('Frequency')\n",
        "plt.title('Distribution of Different Digits in Training Dataset')\n",
        "plt.xticks(range(10))\n",
        "plt.grid(axis='y', linestyle='--', alpha=0.7)\n",
        "plt.show()"
      ]
    },
    {
      "cell_type": "markdown",
      "id": "7a57f720",
      "metadata": {
        "id": "7a57f720"
      },
      "source": [
        "### we notice the dataset is balanced\n",
        "#### Machine learning models trained on a balanced dataset have an equal opportunity to learn\n",
        "#### patterns and features from each class.This helps prevent biases toward specific classes and\n",
        "#### ensures that the model learns to generalize well across all classes."
      ]
    },
    {
      "cell_type": "markdown",
      "id": "69437612",
      "metadata": {
        "id": "69437612"
      },
      "source": [
        "# [5]: Model Selection and Training\n"
      ]
    },
    {
      "cell_type": "markdown",
      "id": "8389b469",
      "metadata": {
        "id": "8389b469"
      },
      "source": [
        "## 1 - Logistic Regression\n"
      ]
    },
    {
      "cell_type": "code",
      "execution_count": null,
      "id": "97ff31ba",
      "metadata": {
        "id": "97ff31ba"
      },
      "outputs": [],
      "source": [
        "# Reshape the data\n",
        "X_train_lg = X_train.reshape(X_train.shape[0],-1)\n",
        "X_test_lg = X_test.reshape(X_test.shape[0],-1)\n"
      ]
    },
    {
      "cell_type": "code",
      "execution_count": null,
      "id": "9ee3b635",
      "metadata": {
        "id": "9ee3b635",
        "outputId": "c6eb9733-5c6f-4baf-d001-11691b50ee5b"
      },
      "outputs": [
        {
          "name": "stdout",
          "output_type": "stream",
          "text": [
            "Accuracy of Logistic Regression model is : 0.9298\n"
          ]
        }
      ],
      "source": [
        "# Create logistic regression model\n",
        "lg_model = LogisticRegression(max_iter=100)\n",
        "\n",
        "# Train the model\n",
        "lg_model.fit(X_train_lg, y_train)\n",
        "\n",
        "# Predict on the test set\n",
        "y_pred = lg_model.predict(X_test_lg)\n",
        "\n",
        "# Calculate accuracy\n",
        "lg_accuracy = metrics.accuracy_score(y_test, y_pred)\n",
        "print(\"Accuracy of Logistic Regression model is :\", lg_accuracy)\n",
        "\n",
        "#add result to the final results\n",
        "results = {}\n",
        "results['Logistic Regression'] = lg_accuracy\n"
      ]
    },
    {
      "cell_type": "markdown",
      "id": "f748eee0",
      "metadata": {
        "id": "f748eee0"
      },
      "source": [
        "## - Evaluation Logistic Regression\n"
      ]
    },
    {
      "cell_type": "code",
      "execution_count": null,
      "id": "15b3d6ea",
      "metadata": {
        "id": "15b3d6ea",
        "outputId": "ee84b8e4-8ff1-4d8e-dedc-2c64e1a260be"
      },
      "outputs": [
        {
          "name": "stdout",
          "output_type": "stream",
          "text": [
            "Confusion Matrix for Logistic Regression Model:\n",
            "[[ 963    0    2    3    0    2    7    2    1    0]\n",
            " [   0 1112    3    3    0    1    3    1   12    0]\n",
            " [   8   11  932   12   10    4    9   12   28    6]\n",
            " [   2    0   19  937    2   18    2   10   12    8]\n",
            " [   2    2    7    2  900    1    8    5   12   43]\n",
            " [   8    6    3   33    6  789   16    5   21    5]\n",
            " [  10    3    6    2    6    9  918    1    3    0]\n",
            " [   0    8   22   10    8    1    0  945    2   32]\n",
            " [   6    6    7   18   12   17   12    4  880   12]\n",
            " [   6    7    3   10   31    8    0   15    7  922]]\n"
          ]
        }
      ],
      "source": [
        "# Print the confusion matrix\n",
        "print(\"Confusion Matrix for Logistic Regression Model:\")\n",
        "print(confusion_matrix(y_test, y_pred))\n"
      ]
    },
    {
      "cell_type": "code",
      "execution_count": null,
      "id": "38854470",
      "metadata": {
        "id": "38854470",
        "outputId": "ec26d6c7-1460-4cbc-e70e-4faeefeb50b6"
      },
      "outputs": [
        {
          "name": "stdout",
          "output_type": "stream",
          "text": [
            "              precision    recall  f1-score   support\n",
            "\n",
            "           0       0.96      0.98      0.97       980\n",
            "           1       0.96      0.98      0.97      1135\n",
            "           2       0.93      0.90      0.92      1032\n",
            "           3       0.91      0.93      0.92      1010\n",
            "           4       0.92      0.92      0.92       982\n",
            "           5       0.93      0.88      0.91       892\n",
            "           6       0.94      0.96      0.95       958\n",
            "           7       0.94      0.92      0.93      1028\n",
            "           8       0.90      0.90      0.90       974\n",
            "           9       0.90      0.91      0.91      1009\n",
            "\n",
            "    accuracy                           0.93     10000\n",
            "   macro avg       0.93      0.93      0.93     10000\n",
            "weighted avg       0.93      0.93      0.93     10000\n",
            "\n"
          ]
        }
      ],
      "source": [
        "# print the classification report\n",
        "print(classification_report(y_test, y_pred))\n"
      ]
    },
    {
      "cell_type": "markdown",
      "id": "1756eede",
      "metadata": {
        "id": "1756eede"
      },
      "source": [
        "##### -----------------------------------------------------------------------------------------------------------------------------------------------------------------\n",
        "## Expanation of the result:\n",
        "### Accuracy: 93%\n",
        "### The model performed reasonably well across most digits.\n",
        "### Digits like 0, 1, 6, and 7 were classified with high precision and recall.\n",
        "### However, it struggled a bit with digits like 2, 3, and 8, where precision and recall were relatively lower.\n",
        "##### -----------------------------------------------------------------------------------------------------------------------------------------------------------------"
      ]
    },
    {
      "cell_type": "markdown",
      "id": "ab09af5c",
      "metadata": {
        "id": "ab09af5c"
      },
      "source": [
        "## 2 - K-nearest neighbour\n"
      ]
    },
    {
      "cell_type": "code",
      "execution_count": null,
      "id": "c5af6460",
      "metadata": {
        "id": "c5af6460",
        "outputId": "65829014-d9c9-4232-b7d4-059fe925eff9"
      },
      "outputs": [
        {
          "name": "stdout",
          "output_type": "stream",
          "text": [
            "Accuracy of KNN model is : 0.967\n"
          ]
        }
      ],
      "source": [
        "# Initialize the K-Nearest Neighbors classifier\n",
        "knn_model = KNeighborsClassifier(n_neighbors=3)\n",
        "\n",
        "# Train the classifier\n",
        "knn_model.fit(X_train_lg, y_train)\n",
        "\n",
        "# Make predictions\n",
        "y_pred = knn_model.predict(X_test_lg)\n",
        "\n",
        "\n",
        "# Calculate accuracy\n",
        "knn_accuracy = metrics.accuracy_score(y_test, y_pred)\n",
        "print(\"Accuracy of KNN model is :\", knn_accuracy)\n",
        "\n",
        "#add model result to the final results\n",
        "results['KNN'] = knn_accuracy\n",
        "\n"
      ]
    },
    {
      "cell_type": "code",
      "execution_count": null,
      "id": "48cd984b",
      "metadata": {
        "id": "48cd984b",
        "outputId": "b1d02b83-7a1c-4c86-d707-064fa0b52778"
      },
      "outputs": [
        {
          "name": "stdout",
          "output_type": "stream",
          "text": [
            "Confusion Matrix:\n",
            "[[ 977    1    0    0    0    0    1    1    0    0]\n",
            " [   0 1130    1    1    2    0    1    0    0    0]\n",
            " [  10    4  999    2    1    0    2    9    4    1]\n",
            " [   3    1    5  975    0   12    0    4    7    3]\n",
            " [   2   10    1    0  927    0    7    3    2   30]\n",
            " [   7    1    0    9    2  857    9    1    1    5]\n",
            " [   6    4    0    0    0    2  945    0    1    0]\n",
            " [   1   22    2    0   10    0    0  966    0   27]\n",
            " [  12    1    3    9    2    2    5    3  934    3]\n",
            " [   7    5    2   10    8    3    0   11    3  960]]\n"
          ]
        }
      ],
      "source": [
        "\n",
        "# Print the confusion matrix\n",
        "print(\"Confusion Matrix:\")\n",
        "print(confusion_matrix(y_test, y_pred))\n"
      ]
    },
    {
      "cell_type": "code",
      "execution_count": null,
      "id": "80494b16",
      "metadata": {
        "id": "80494b16",
        "outputId": "9e5b1f00-29ec-4f5f-e58f-c8fbb8e8a189"
      },
      "outputs": [
        {
          "name": "stdout",
          "output_type": "stream",
          "text": [
            "Classification Report:\n",
            "              precision    recall  f1-score   support\n",
            "\n",
            "           0       0.95      1.00      0.97       980\n",
            "           1       0.96      1.00      0.98      1135\n",
            "           2       0.99      0.97      0.98      1032\n",
            "           3       0.97      0.97      0.97      1010\n",
            "           4       0.97      0.94      0.96       982\n",
            "           5       0.98      0.96      0.97       892\n",
            "           6       0.97      0.99      0.98       958\n",
            "           7       0.97      0.94      0.95      1028\n",
            "           8       0.98      0.96      0.97       974\n",
            "           9       0.93      0.95      0.94      1009\n",
            "\n",
            "    accuracy                           0.97     10000\n",
            "   macro avg       0.97      0.97      0.97     10000\n",
            "weighted avg       0.97      0.97      0.97     10000\n",
            "\n"
          ]
        }
      ],
      "source": [
        "# Print the classification report\n",
        "print(\"Classification Report:\")\n",
        "print(classification_report(y_test, y_pred))"
      ]
    },
    {
      "cell_type": "markdown",
      "id": "1ae4b390",
      "metadata": {
        "id": "1ae4b390"
      },
      "source": [
        "##### -----------------------------------------------------------------------------------------------------------------------------------------------------------------\n",
        "## Expanation of the result:\n",
        "### Accuracy: 97%\n",
        "### The KNN model achieved high accuracy across all digits.\n",
        "### It performed particularly well in correctly classifying digits 0, 1, 2, and 6.\n",
        "### Some confusion was observed between digits 4, 5, and 9, as indicated by slightly lower precision and recall values.\n",
        "##### -----------------------------------------------------------------------------------------------------------------------------------------------------------------"
      ]
    },
    {
      "cell_type": "markdown",
      "id": "ef4188e3",
      "metadata": {
        "id": "ef4188e3"
      },
      "source": [
        "## 3 - CNN (Convolution Neural Network)\n"
      ]
    },
    {
      "cell_type": "code",
      "execution_count": null,
      "id": "f0e48a9b",
      "metadata": {
        "id": "f0e48a9b",
        "outputId": "80e7b878-be22-40bd-c789-ad4fdc6b93ef"
      },
      "outputs": [
        {
          "name": "stdout",
          "output_type": "stream",
          "text": [
            "Epoch 1/5\n",
            "422/422 [==============================] - 13s 30ms/step - loss: 0.3072 - accuracy: 0.9117 - val_loss: 0.1208 - val_accuracy: 0.9672\n",
            "Epoch 2/5\n",
            "422/422 [==============================] - 11s 26ms/step - loss: 0.0960 - accuracy: 0.9720 - val_loss: 0.0736 - val_accuracy: 0.9788\n",
            "Epoch 3/5\n",
            "422/422 [==============================] - 12s 28ms/step - loss: 0.0615 - accuracy: 0.9821 - val_loss: 0.0626 - val_accuracy: 0.9802\n",
            "Epoch 4/5\n",
            "422/422 [==============================] - 12s 28ms/step - loss: 0.0459 - accuracy: 0.9861 - val_loss: 0.0530 - val_accuracy: 0.9848\n",
            "Epoch 5/5\n",
            "422/422 [==============================] - 11s 27ms/step - loss: 0.0352 - accuracy: 0.9897 - val_loss: 0.0551 - val_accuracy: 0.9835\n",
            "313/313 [==============================] - 1s 3ms/step - loss: 0.0551 - accuracy: 0.9829\n"
          ]
        }
      ],
      "source": [
        "\n",
        "# Reshape the data for CNN models\n",
        "X_train_cnn = X_train.reshape(X_train.shape[0], 28, 28, 1)\n",
        "X_test_cnn = X_test.reshape(X_test.shape[0], 28, 28, 1)\n",
        "\n",
        "\n",
        "X_train_cnn, X_val_cnn, y_train_one_hot, y_val_one_hot = train_test_split(X_train_cnn, y_train_one_hot, test_size=0.1, random_state=42)\n",
        "\n",
        "\n",
        "cnn_model = Sequential([\n",
        "        Conv2D(32, kernel_size=(3, 3), activation='relu', input_shape=(28, 28, 1)),\n",
        "        MaxPooling2D(pool_size=(2, 2)),\n",
        "        Flatten(),\n",
        "        Dense(128, activation='relu'),\n",
        "        Dense(10, activation='softmax')\n",
        "    ])\n",
        "\n",
        "cnn_model.compile(loss='categorical_crossentropy', optimizer='adam', metrics=['accuracy'])\n",
        "cnn_model.fit(X_train_cnn, y_train_one_hot, batch_size=128, epochs=5, validation_data=(X_val_cnn, y_val_one_hot))\n",
        "cnn_accuracy = cnn_model.evaluate(X_test_cnn, y_test_one_hot)"
      ]
    },
    {
      "cell_type": "code",
      "execution_count": null,
      "id": "eb12569d",
      "metadata": {
        "id": "eb12569d",
        "outputId": "5a488161-ea72-4517-98d0-7dc8ce60e0ef"
      },
      "outputs": [
        {
          "name": "stdout",
          "output_type": "stream",
          "text": [
            "Accuracy of CNN model is : 0.9829000234603882\n"
          ]
        }
      ],
      "source": [
        "print(\"Accuracy of CNN model is :\", cnn_accuracy[1])\n",
        "results['CNN'] = cnn_accuracy[1]\n"
      ]
    },
    {
      "cell_type": "code",
      "execution_count": null,
      "id": "2ef66454",
      "metadata": {
        "id": "2ef66454",
        "outputId": "37661972-3290-467b-b4e9-0baa25a5bb07"
      },
      "outputs": [
        {
          "name": "stdout",
          "output_type": "stream",
          "text": [
            "Model: \"sequential_2\"\n",
            "_________________________________________________________________\n",
            "Layer (type)                 Output Shape              Param #   \n",
            "=================================================================\n",
            "conv2d_2 (Conv2D)            (None, 26, 26, 32)        320       \n",
            "_________________________________________________________________\n",
            "max_pooling2d_2 (MaxPooling2 (None, 13, 13, 32)        0         \n",
            "_________________________________________________________________\n",
            "flatten_2 (Flatten)          (None, 5408)              0         \n",
            "_________________________________________________________________\n",
            "dense_4 (Dense)              (None, 128)               692352    \n",
            "_________________________________________________________________\n",
            "dense_5 (Dense)              (None, 10)                1290      \n",
            "=================================================================\n",
            "Total params: 693,962\n",
            "Trainable params: 693,962\n",
            "Non-trainable params: 0\n",
            "_________________________________________________________________\n"
          ]
        }
      ],
      "source": [
        "cnn_model.summary()"
      ]
    },
    {
      "cell_type": "markdown",
      "id": "c3cd3a11",
      "metadata": {
        "id": "c3cd3a11"
      },
      "source": [
        "## - Evaluation CNN Model\n"
      ]
    },
    {
      "cell_type": "code",
      "execution_count": null,
      "id": "c947adae",
      "metadata": {
        "id": "c947adae",
        "outputId": "360de03e-2bd7-4ae3-9063-cdb0dd6cb47d"
      },
      "outputs": [
        {
          "name": "stdout",
          "output_type": "stream",
          "text": [
            "[[ 977    0    2    1    0    0    0    0    0    0]\n",
            " [   0 1128    1    0    4    0    0    1    1    0]\n",
            " [   3    1 1009    6    3    0    0    4    3    3]\n",
            " [   0    0    1 1004    0    3    0    0    1    1]\n",
            " [   1    0    0    0  979    0    0    0    0    2]\n",
            " [   1    0    0   13    0  874    2    0    0    2]\n",
            " [  10    3    1    1    8    7  926    0    2    0]\n",
            " [   0    1    8    2    5    0    0 1004    2    6]\n",
            " [   7    0    6    4    4    1    0    1  943    8]\n",
            " [   1    3    0    4   12    1    0    2    1  985]]\n"
          ]
        }
      ],
      "source": [
        "# Predict classes for test set\n",
        "y_pred_cnn = np.argmax(cnn_model.predict(X_test_cnn), axis=-1)\n",
        "\n",
        "# Convert one-hot encoded labels back to integers\n",
        "y_test_int = np.argmax(y_test_one_hot, axis=1)\n",
        "\n",
        "# Calculate confusion matrix\n",
        "conf_matrix_cnn = confusion_matrix(y_test_int, y_pred_cnn)\n",
        "\n",
        "# print confusion matrix\n",
        "print(conf_matrix_cnn)"
      ]
    },
    {
      "cell_type": "code",
      "execution_count": null,
      "id": "10d96a6a",
      "metadata": {
        "id": "10d96a6a",
        "outputId": "29d4e880-deab-45f3-cb6e-a08e838cef7c"
      },
      "outputs": [
        {
          "name": "stdout",
          "output_type": "stream",
          "text": [
            "              precision    recall  f1-score   support\n",
            "\n",
            "           0       0.98      1.00      0.99       980\n",
            "           1       0.99      0.99      0.99      1135\n",
            "           2       0.98      0.98      0.98      1032\n",
            "           3       0.97      0.99      0.98      1010\n",
            "           4       0.96      1.00      0.98       982\n",
            "           5       0.99      0.98      0.98       892\n",
            "           6       1.00      0.97      0.98       958\n",
            "           7       0.99      0.98      0.98      1028\n",
            "           8       0.99      0.97      0.98       974\n",
            "           9       0.98      0.98      0.98      1009\n",
            "\n",
            "    accuracy                           0.98     10000\n",
            "   macro avg       0.98      0.98      0.98     10000\n",
            "weighted avg       0.98      0.98      0.98     10000\n",
            "\n"
          ]
        }
      ],
      "source": [
        "# print classification report\n",
        "print(classification_report(y_test_int, y_pred_cnn))\n"
      ]
    },
    {
      "cell_type": "markdown",
      "id": "e5e6750b",
      "metadata": {
        "id": "e5e6750b"
      },
      "source": [
        "## Testing CNN Model"
      ]
    },
    {
      "cell_type": "code",
      "execution_count": null,
      "id": "dc0325c9",
      "metadata": {
        "id": "dc0325c9",
        "outputId": "58120109-c19b-4ff9-c9a3-4793e5f9b9d1"
      },
      "outputs": [
        {
          "name": "stdout",
          "output_type": "stream",
          "text": [
            "True Label: 7\n",
            "Predicted Label: 7\n"
          ]
        },
        {
          "data": {
            "image/png": "[encoded data removed]",
            "text/plain": [
              "<Figure size 432x288 with 1 Axes>"
            ]
          },
          "metadata": {
            "needs_background": "light"
          },
          "output_type": "display_data"
        }
      ],
      "source": [
        "# Select a single sample from the test set (for example, the first sample)\n",
        "sample = X_test_cnn[0]\n",
        "true_label = np.argmax(y_test_one_hot[0])  # Convert one-hot encoded label back to integer\n",
        "\n",
        "# Reshape the sample to fit the model input shape\n",
        "sample = sample.reshape(1, 28, 28, 1)  # Reshape to (1, 28, 28, 1) to indicate one sample\n",
        "\n",
        "# Make prediction for the single sample\n",
        "predicted_probs = cnn_model.predict(sample)\n",
        "predicted_label = np.argmax(predicted_probs)\n",
        "\n",
        "# Print the true label and predicted label for the single sample\n",
        "print(\"True Label:\", true_label)\n",
        "print(\"Predicted Label:\", predicted_label)\n",
        "\n",
        "plt.imshow(X_test[0],cmap='gray')\n",
        "plt.show()"
      ]
    },
    {
      "cell_type": "markdown",
      "id": "5bc27959",
      "metadata": {
        "id": "5bc27959"
      },
      "source": [
        "##### -----------------------------------------------------------------------------------------------------------------------------------------------------------------\n",
        "## Expanation of the result:\n",
        "### Accuracy: 98%\n",
        "### The CNN model achieved the highest accuracy among the three methods.\n",
        "### It demonstrated excellent precision and recall values for almost all digits.\n",
        "### The model performed exceptionally well in distinguishing between different digits, with high precision and recall scores across the board.\n",
        "##### -----------------------------------------------------------------------------------------------------------------------------------------------------------------"
      ]
    },
    {
      "cell_type": "markdown",
      "id": "7f3c23c0",
      "metadata": {
        "id": "7f3c23c0"
      },
      "source": [
        "# [6]: Models Comparison\n"
      ]
    },
    {
      "cell_type": "code",
      "execution_count": null,
      "id": "4bfd9f3b",
      "metadata": {
        "id": "4bfd9f3b",
        "outputId": "99f67bb4-7e95-4c2d-ef74-5694eabd8213"
      },
      "outputs": [
        {
          "data": {
            "image/png": "[encoded data removed]",
            "text/plain": [
              "<Figure size 432x576 with 1 Axes>"
            ]
          },
          "metadata": {
            "needs_background": "light"
          },
          "output_type": "display_data"
        }
      ],
      "source": [
        "# Extracting model names and accuracies from the dictionary\n",
        "model_names = list(results.keys())\n",
        "accuracies = list(results.values())\n",
        "\n",
        "# Plotting the bar chart\n",
        "plt.figure(figsize=(6, 8))\n",
        "plt.bar(model_names, accuracies, color='orange',width=0.5)\n",
        "\n",
        "# Adding labels and title\n",
        "plt.xlabel('Models')\n",
        "plt.ylabel('Accuracy')\n",
        "plt.title('Handwritten Digit Recognition: Model Comparison')\n",
        "\n",
        "# Rotating x-axis labels for better readability\n",
        "plt.xticks(rotation=45, ha='right')\n",
        "\n",
        "# Displaying the bar chart\n",
        "plt.tight_layout()\n",
        "plt.show()"
      ]
    },
    {
      "cell_type": "markdown",
      "id": "a662c009",
      "metadata": {
        "id": "a662c009"
      },
      "source": [
        "\n",
        "#### Here's a summary of what we can learn from the confusion matrices and classification reports of the three models:\n",
        "\n",
        "## What to Learn:\n",
        "### 1 - Model Performance: The CNN outperformed both Logistic Regression and KNN in terms of accuracy and precision-recall metrics. This suggests that for complex tasks like handwritten digit recognition, more advanced models like CNNs are highly effective.\n",
        "### 2 - Pattern Recognition: CNNs are specifically designed for image recognition tasks and excel at identifying complex patterns and features within images, which is evident from the superior performance.\n",
        "### 3 - Consider Model Complexity: While CNNs offer excellent performance, they come with increased computational complexity and resource requirements compared to simpler models like Logistic Regression and KNN. Therefore, the choice of model should consider the trade-offs between performance and computational resources available.\n",
        "##### --------------------------------------------------------------------------------------------------------------------------------------------------------------------\n"
      ]
    },
    {
      "cell_type": "code",
      "execution_count": null,
      "id": "98093b93",
      "metadata": {
        "id": "98093b93"
      },
      "outputs": [],
      "source": []
    }
  ],
  "metadata": {
    "kernelspec": {
      "display_name": "Python 3",
      "language": "python",
      "name": "python3"
    },
    "language_info": {
      "codemirror_mode": {
        "name": "ipython",
        "version": 3
      },
      "file_extension": ".py",
      "mimetype": "text/x-python",
      "name": "python",
      "nbconvert_exporter": "python",
      "pygments_lexer": "ipython3",
      "version": "3.6.13"
    },
    "colab": {
      "provenance": [],
      "include_colab_link": true
    }
  },
  "nbformat": 4,
  "nbformat_minor": 5
}